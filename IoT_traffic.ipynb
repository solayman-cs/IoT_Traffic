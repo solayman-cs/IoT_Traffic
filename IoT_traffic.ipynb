{
 "cells": [
  {
   "cell_type": "code",
   "execution_count": 8,
   "id": "fc882fb7",
   "metadata": {},
   "outputs": [],
   "source": [
    "import os\n",
    "import numpy as np\n",
    "import pandas as pd\n",
    "import matplotlib.pyplot as plt"
   ]
  },
  {
   "cell_type": "code",
   "execution_count": 2,
   "id": "b3c51fb9",
   "metadata": {},
   "outputs": [],
   "source": [
    "data = pd.read_csv('train_ML_IOT.csv')"
   ]
  },
  {
   "cell_type": "code",
   "execution_count": 3,
   "id": "54a1499e",
   "metadata": {},
   "outputs": [
    {
     "data": {
      "text/plain": [
       "192480"
      ]
     },
     "execution_count": 3,
     "metadata": {},
     "output_type": "execute_result"
    }
   ],
   "source": [
    "data.size"
   ]
  },
  {
   "cell_type": "code",
   "execution_count": 4,
   "id": "535a1129",
   "metadata": {},
   "outputs": [
    {
     "data": {
      "text/plain": [
       "48120"
      ]
     },
     "execution_count": 4,
     "metadata": {},
     "output_type": "execute_result"
    }
   ],
   "source": [
    "len(data)"
   ]
  },
  {
   "cell_type": "code",
   "execution_count": 5,
   "id": "f0acec56",
   "metadata": {},
   "outputs": [
    {
     "data": {
      "text/plain": [
       "(48120, 4)"
      ]
     },
     "execution_count": 5,
     "metadata": {},
     "output_type": "execute_result"
    }
   ],
   "source": [
    "data.shape"
   ]
  },
  {
   "cell_type": "code",
   "execution_count": 7,
   "id": "411a4e6e",
   "metadata": {},
   "outputs": [
    {
     "data": {
      "text/html": [
       "<div>\n",
       "<style scoped>\n",
       "    .dataframe tbody tr th:only-of-type {\n",
       "        vertical-align: middle;\n",
       "    }\n",
       "\n",
       "    .dataframe tbody tr th {\n",
       "        vertical-align: top;\n",
       "    }\n",
       "\n",
       "    .dataframe thead th {\n",
       "        text-align: right;\n",
       "    }\n",
       "</style>\n",
       "<table border=\"1\" class=\"dataframe\">\n",
       "  <thead>\n",
       "    <tr style=\"text-align: right;\">\n",
       "      <th></th>\n",
       "      <th>DateTime</th>\n",
       "      <th>Junction</th>\n",
       "      <th>Vehicles</th>\n",
       "      <th>ID</th>\n",
       "    </tr>\n",
       "  </thead>\n",
       "  <tbody>\n",
       "    <tr>\n",
       "      <th>0</th>\n",
       "      <td>2015-11-01 00:00:00</td>\n",
       "      <td>1</td>\n",
       "      <td>15</td>\n",
       "      <td>20151101001</td>\n",
       "    </tr>\n",
       "    <tr>\n",
       "      <th>1</th>\n",
       "      <td>2015-11-01 01:00:00</td>\n",
       "      <td>1</td>\n",
       "      <td>13</td>\n",
       "      <td>20151101011</td>\n",
       "    </tr>\n",
       "    <tr>\n",
       "      <th>2</th>\n",
       "      <td>2015-11-01 02:00:00</td>\n",
       "      <td>1</td>\n",
       "      <td>10</td>\n",
       "      <td>20151101021</td>\n",
       "    </tr>\n",
       "    <tr>\n",
       "      <th>3</th>\n",
       "      <td>2015-11-01 03:00:00</td>\n",
       "      <td>1</td>\n",
       "      <td>7</td>\n",
       "      <td>20151101031</td>\n",
       "    </tr>\n",
       "    <tr>\n",
       "      <th>4</th>\n",
       "      <td>2015-11-01 04:00:00</td>\n",
       "      <td>1</td>\n",
       "      <td>9</td>\n",
       "      <td>20151101041</td>\n",
       "    </tr>\n",
       "    <tr>\n",
       "      <th>5</th>\n",
       "      <td>2015-11-01 05:00:00</td>\n",
       "      <td>1</td>\n",
       "      <td>6</td>\n",
       "      <td>20151101051</td>\n",
       "    </tr>\n",
       "    <tr>\n",
       "      <th>6</th>\n",
       "      <td>2015-11-01 06:00:00</td>\n",
       "      <td>1</td>\n",
       "      <td>9</td>\n",
       "      <td>20151101061</td>\n",
       "    </tr>\n",
       "    <tr>\n",
       "      <th>7</th>\n",
       "      <td>2015-11-01 07:00:00</td>\n",
       "      <td>1</td>\n",
       "      <td>8</td>\n",
       "      <td>20151101071</td>\n",
       "    </tr>\n",
       "    <tr>\n",
       "      <th>8</th>\n",
       "      <td>2015-11-01 08:00:00</td>\n",
       "      <td>1</td>\n",
       "      <td>11</td>\n",
       "      <td>20151101081</td>\n",
       "    </tr>\n",
       "    <tr>\n",
       "      <th>9</th>\n",
       "      <td>2015-11-01 09:00:00</td>\n",
       "      <td>1</td>\n",
       "      <td>12</td>\n",
       "      <td>20151101091</td>\n",
       "    </tr>\n",
       "    <tr>\n",
       "      <th>10</th>\n",
       "      <td>2015-11-01 10:00:00</td>\n",
       "      <td>1</td>\n",
       "      <td>15</td>\n",
       "      <td>20151101101</td>\n",
       "    </tr>\n",
       "    <tr>\n",
       "      <th>11</th>\n",
       "      <td>2015-11-01 11:00:00</td>\n",
       "      <td>1</td>\n",
       "      <td>17</td>\n",
       "      <td>20151101111</td>\n",
       "    </tr>\n",
       "    <tr>\n",
       "      <th>12</th>\n",
       "      <td>2015-11-01 12:00:00</td>\n",
       "      <td>1</td>\n",
       "      <td>16</td>\n",
       "      <td>20151101121</td>\n",
       "    </tr>\n",
       "    <tr>\n",
       "      <th>13</th>\n",
       "      <td>2015-11-01 13:00:00</td>\n",
       "      <td>1</td>\n",
       "      <td>15</td>\n",
       "      <td>20151101131</td>\n",
       "    </tr>\n",
       "    <tr>\n",
       "      <th>14</th>\n",
       "      <td>2015-11-01 14:00:00</td>\n",
       "      <td>1</td>\n",
       "      <td>16</td>\n",
       "      <td>20151101141</td>\n",
       "    </tr>\n",
       "    <tr>\n",
       "      <th>15</th>\n",
       "      <td>2015-11-01 15:00:00</td>\n",
       "      <td>1</td>\n",
       "      <td>12</td>\n",
       "      <td>20151101151</td>\n",
       "    </tr>\n",
       "    <tr>\n",
       "      <th>16</th>\n",
       "      <td>2015-11-01 16:00:00</td>\n",
       "      <td>1</td>\n",
       "      <td>12</td>\n",
       "      <td>20151101161</td>\n",
       "    </tr>\n",
       "    <tr>\n",
       "      <th>17</th>\n",
       "      <td>2015-11-01 17:00:00</td>\n",
       "      <td>1</td>\n",
       "      <td>16</td>\n",
       "      <td>20151101171</td>\n",
       "    </tr>\n",
       "    <tr>\n",
       "      <th>18</th>\n",
       "      <td>2015-11-01 18:00:00</td>\n",
       "      <td>1</td>\n",
       "      <td>17</td>\n",
       "      <td>20151101181</td>\n",
       "    </tr>\n",
       "    <tr>\n",
       "      <th>19</th>\n",
       "      <td>2015-11-01 19:00:00</td>\n",
       "      <td>1</td>\n",
       "      <td>20</td>\n",
       "      <td>20151101191</td>\n",
       "    </tr>\n",
       "  </tbody>\n",
       "</table>\n",
       "</div>"
      ],
      "text/plain": [
       "               DateTime  Junction  Vehicles           ID\n",
       "0   2015-11-01 00:00:00         1        15  20151101001\n",
       "1   2015-11-01 01:00:00         1        13  20151101011\n",
       "2   2015-11-01 02:00:00         1        10  20151101021\n",
       "3   2015-11-01 03:00:00         1         7  20151101031\n",
       "4   2015-11-01 04:00:00         1         9  20151101041\n",
       "5   2015-11-01 05:00:00         1         6  20151101051\n",
       "6   2015-11-01 06:00:00         1         9  20151101061\n",
       "7   2015-11-01 07:00:00         1         8  20151101071\n",
       "8   2015-11-01 08:00:00         1        11  20151101081\n",
       "9   2015-11-01 09:00:00         1        12  20151101091\n",
       "10  2015-11-01 10:00:00         1        15  20151101101\n",
       "11  2015-11-01 11:00:00         1        17  20151101111\n",
       "12  2015-11-01 12:00:00         1        16  20151101121\n",
       "13  2015-11-01 13:00:00         1        15  20151101131\n",
       "14  2015-11-01 14:00:00         1        16  20151101141\n",
       "15  2015-11-01 15:00:00         1        12  20151101151\n",
       "16  2015-11-01 16:00:00         1        12  20151101161\n",
       "17  2015-11-01 17:00:00         1        16  20151101171\n",
       "18  2015-11-01 18:00:00         1        17  20151101181\n",
       "19  2015-11-01 19:00:00         1        20  20151101191"
      ]
     },
     "execution_count": 7,
     "metadata": {},
     "output_type": "execute_result"
    }
   ],
   "source": [
    "data.head(20)"
   ]
  },
  {
   "cell_type": "code",
   "execution_count": 12,
   "id": "218734d4",
   "metadata": {},
   "outputs": [
    {
     "data": {
      "text/plain": [
       "Text(0, 0.5, 'Frequency')"
      ]
     },
     "execution_count": 12,
     "metadata": {},
     "output_type": "execute_result"
    },
    {
     "data": {
      "image/png": "[encoded data removed]",
      "text/plain": [
       "<Figure size 432x288 with 1 Axes>"
      ]
     },
     "metadata": {
      "needs_background": "light"
     },
     "output_type": "display_data"
    }
   ],
   "source": [
    "plt.hist(data['Vehicles'])\n",
    "plt.xlabel(\"Vehicle\")\n",
    "plt.ylabel(\"Frequency\")"
   ]
  },
  {
   "cell_type": "code",
   "execution_count": 13,
   "id": "b85c5583",
   "metadata": {},
   "outputs": [
    {
     "data": {
      "text/plain": [
       "<BarContainer object of 48120 artists>"
      ]
     },
     "execution_count": 13,
     "metadata": {},
     "output_type": "execute_result"
    },
    {
     "data": {
      "image/png": "[encoded data removed]",
      "text/plain": [
       "<Figure size 432x288 with 1 Axes>"
      ]
     },
     "metadata": {
      "needs_background": "light"
     },
     "output_type": "display_data"
    }
   ],
   "source": [
    "plt.bar(data['Vehicles'], data['Junction'])"
   ]
  },
  {
   "cell_type": "code",
   "execution_count": null,
   "id": "a9c7a9ae",
   "metadata": {},
   "outputs": [],
   "source": []
  }
 ],
 "metadata": {
  "kernelspec": {
   "display_name": "Python 3 (ipykernel)",
   "language": "python",
   "name": "python3"
  },
  "language_info": {
   "codemirror_mode": {
    "name": "ipython",
    "version": 3
   },
   "file_extension": ".py",
   "mimetype": "text/x-python",
   "name": "python",
   "nbconvert_exporter": "python",
   "pygments_lexer": "ipython3",
   "version": "3.9.12"
  }
 },
 "nbformat": 4,
 "nbformat_minor": 5
}
